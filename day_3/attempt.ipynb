{
 "metadata": {
  "language_info": {
   "codemirror_mode": {
    "name": "ipython",
    "version": 3
   },
   "file_extension": ".py",
   "mimetype": "text/x-python",
   "name": "python",
   "nbconvert_exporter": "python",
   "pygments_lexer": "ipython3",
   "version": "3.8.5-final"
  },
  "orig_nbformat": 2,
  "kernelspec": {
   "name": "python3",
   "display_name": "Python 3",
   "language": "python"
  }
 },
 "nbformat": 4,
 "nbformat_minor": 2,
 "cells": [
  {
   "cell_type": "code",
   "execution_count": 1,
   "metadata": {
    "tags": []
   },
   "outputs": [],
   "source": [
    "with open('input.txt', 'r') as fp:\n",
    "    track = [list(line[:-1]) for line in fp.readlines()]\n",
    "\n",
    "\n",
    "# going down is track[y+1][x], right is track[y][x+3]"
   ]
  },
  {
   "cell_type": "code",
   "execution_count": 2,
   "metadata": {},
   "outputs": [],
   "source": [
    "def tree_slope(right = 3 , down = 1,track = track):\n",
    "    x = 0\n",
    "    y = 0\n",
    "    count = 0\n",
    "    while y < len(track):\n",
    "        count += 1 if track[y][x] == '#' else 0\n",
    "        x += right\n",
    "        x = x % len(track[0])\n",
    "        y += down\n",
    "    return count"
   ]
  },
  {
   "cell_type": "code",
   "execution_count": 11,
   "metadata": {},
   "outputs": [
    {
     "output_type": "execute_result",
     "data": {
      "text/plain": [
       "3154761400"
      ]
     },
     "metadata": {},
     "execution_count": 11
    }
   ],
   "source": [
    "total = 1 \n",
    "total *= tree_slope(1,1)\n",
    "total *= tree_slope(3,1)\n",
    "total *= tree_slope(5,1)\n",
    "total *= tree_slope(7,1)\n",
    "total *= tree_slope(1,2)\n",
    "total\n"
   ]
  },
  {
   "cell_type": "code",
   "execution_count": 10,
   "metadata": {},
   "outputs": [
    {
     "output_type": "execute_result",
     "data": {
      "text/plain": [
       "34"
      ]
     },
     "metadata": {},
     "execution_count": 10
    }
   ],
   "source": [
    "tree_slope(1,2)"
   ]
  }
 ]
}