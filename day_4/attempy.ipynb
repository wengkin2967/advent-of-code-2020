{
 "metadata": {
  "language_info": {
   "codemirror_mode": {
    "name": "ipython",
    "version": 3
   },
   "file_extension": ".py",
   "mimetype": "text/x-python",
   "name": "python",
   "nbconvert_exporter": "python",
   "pygments_lexer": "ipython3",
   "version": "3.8.5-final"
  },
  "orig_nbformat": 2,
  "kernelspec": {
   "name": "python3",
   "display_name": "Python 3",
   "language": "python"
  }
 },
 "nbformat": 4,
 "nbformat_minor": 2,
 "cells": [
  {
   "cell_type": "code",
   "execution_count": 1,
   "metadata": {
    "tags": []
   },
   "outputs": [],
   "source": [
    "with open('input.txt','r') as fp:\n",
    "    accs =  list(map(lambda x : x.replace('\\n',' '),fp.read().split('\\n\\n')))"
   ]
  },
  {
   "cell_type": "code",
   "execution_count": 2,
   "metadata": {},
   "outputs": [],
   "source": [
    "accs = list(map(lambda x :{k.split(':')[0]:k.split(':')[1] for k in x.split()}, accs))"
   ]
  },
  {
   "cell_type": "code",
   "execution_count": 3,
   "metadata": {},
   "outputs": [],
   "source": [
    "def valid_num_fields(accs=accs):\n",
    "    keys = {'ecl','byr','pid','eyr','hcl','iyr','hgt'}\n",
    "    keys2 = {'ecl','byr','pid','eyr','hcl','iyr','hgt','cid'}\n",
    "    return list(filter(lambda i: i.keys() == keys or i.keys() == keys2 ,accs))"
   ]
  },
  {
   "cell_type": "code",
   "execution_count": 4,
   "metadata": {},
   "outputs": [],
   "source": [
    "filter1_accs = valid_num_fields()"
   ]
  },
  {
   "cell_type": "code",
   "execution_count": 5,
   "metadata": {},
   "outputs": [
    {
     "output_type": "execute_result",
     "data": {
      "text/plain": [
       "True"
      ]
     },
     "metadata": {},
     "execution_count": 5
    }
   ],
   "source": [
    "filter1_accs[1]['hgt'][-2:] == 'cm'"
   ]
  },
  {
   "cell_type": "code",
   "execution_count": 6,
   "metadata": {},
   "outputs": [],
   "source": [
    "import re\n",
    "def valid_fields_acc(acc):\n",
    "    # Check for birth year\n",
    "    byr = len(acc['byr']) == 4 and acc['byr'].isdigit() and int(acc['byr']) in range(1920,2003)\n",
    "    # Issue year\n",
    "    iyr = len(acc['iyr']) == 4 and acc['iyr'].isdigit() and int(acc['iyr']) in range(2010,2021)\n",
    "    # Expiration year\n",
    "    eyr = len(acc['eyr']) == 4 and acc['eyr'].isdigit() and int(acc['eyr']) in range(2020,2031)\n",
    "    # height\n",
    "    if len(acc['hgt']) == 4 and acc['hgt'][-2:] == 'in' and acc['hgt'][:2].isdigit() and int(acc['hgt'][:2]) in range(59,77):\n",
    "        hgt = True\n",
    "    elif len(acc['hgt']) == 5 and acc['hgt'][-2:] == 'cm' and acc['hgt'][:3].isdigit() and int(acc['hgt'][:3]) in range(150,194):\n",
    "        hgt = True\n",
    "    else:\n",
    "        hgt = False\n",
    "    # Hair Color\n",
    "    hcl = re.match(r'#[0-9a-f]{6}',acc['hcl']) != None\n",
    "    # Eye Color\n",
    "    ecl = acc['ecl'] in ['amb','blu','brn','gry','grn','hzl','oth']\n",
    "    # Passport id\n",
    "    pid = len(acc['pid']) == 9 and acc['pid'].isdigit()\n",
    "\n",
    "    return byr and iyr and eyr and hgt and hcl and ecl and pid\n"
   ]
  },
  {
   "cell_type": "code",
   "execution_count": 7,
   "metadata": {},
   "outputs": [
    {
     "output_type": "execute_result",
     "data": {
      "text/plain": [
       "140"
      ]
     },
     "metadata": {},
     "execution_count": 7
    }
   ],
   "source": [
    "sum([1 if valid_fields_acc(i) else 0 for i in filter1_accs])"
   ]
  },
  {
   "cell_type": "code",
   "execution_count": null,
   "metadata": {},
   "outputs": [],
   "source": []
  }
 ]
}