{
 "metadata": {
  "language_info": {
   "codemirror_mode": {
    "name": "ipython",
    "version": 3
   },
   "file_extension": ".py",
   "mimetype": "text/x-python",
   "name": "python",
   "nbconvert_exporter": "python",
   "pygments_lexer": "ipython3",
   "version": "3.8.5-final"
  },
  "orig_nbformat": 2,
  "kernelspec": {
   "name": "python3",
   "display_name": "Python 3",
   "language": "python"
  }
 },
 "nbformat": 4,
 "nbformat_minor": 2,
 "cells": [
  {
   "cell_type": "code",
   "execution_count": 17,
   "metadata": {},
   "outputs": [],
   "source": [
    "with open('input.txt','r') as fp:\n",
    "    answers =  list(map(lambda x : x.replace('\\n',' '),fp.read().split('\\n\\n')))\n",
    "    num_group = [len(i.split()) for i in answers]"
   ]
  },
  {
   "cell_type": "code",
   "execution_count": 11,
   "metadata": {},
   "outputs": [],
   "source": [
    "counts = []\n",
    "for ans in answers:\n",
    "    count = {}\n",
    "    for a in ans:\n",
    "        count[a] = count.get(a,0) + 1\n",
    "    counts.append(count)"
   ]
  },
  {
   "cell_type": "code",
   "execution_count": 24,
   "metadata": {},
   "outputs": [
    {
     "output_type": "execute_result",
     "data": {
      "text/plain": [
       "6633"
      ]
     },
     "metadata": {},
     "execution_count": 24
    }
   ],
   "source": [
    "sum([len(i) for i in counts])"
   ]
  },
  {
   "cell_type": "code",
   "execution_count": 26,
   "metadata": {},
   "outputs": [
    {
     "output_type": "execute_result",
     "data": {
      "text/plain": [
       "3202"
      ]
     },
     "metadata": {},
     "execution_count": 26
    }
   ],
   "source": [
    "total = 0\n",
    "for j in range(len(counts)):\n",
    "    total += sum([1 if i == num_group[j] else 0 for i in counts[j].values()])\n",
    "total"
   ]
  }
 ]
}