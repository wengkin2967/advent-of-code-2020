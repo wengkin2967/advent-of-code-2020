{
 "metadata": {
  "language_info": {
   "codemirror_mode": {
    "name": "ipython",
    "version": 3
   },
   "file_extension": ".py",
   "mimetype": "text/x-python",
   "name": "python",
   "nbconvert_exporter": "python",
   "pygments_lexer": "ipython3",
   "version": "3.8.5-final"
  },
  "orig_nbformat": 2,
  "kernelspec": {
   "name": "python3",
   "display_name": "Python 3",
   "language": "python"
  }
 },
 "nbformat": 4,
 "nbformat_minor": 2,
 "cells": [
  {
   "cell_type": "code",
   "execution_count": 3,
   "metadata": {},
   "outputs": [],
   "source": [
    "with open('input.txt','r') as fp:\n",
    "    seats = [i.rstrip('\\n') for i in fp.readlines()]"
   ]
  },
  {
   "cell_type": "code",
   "execution_count": 39,
   "metadata": {},
   "outputs": [],
   "source": [
    "def get_row(seat):\n",
    "    \"\"\"\n",
    "    Helper to get the row of a seat.\n",
    "    \"\"\"\n",
    "    min_row = 0\n",
    "    max_row = 127\n",
    "    row = 9999\n",
    "    for i in seat[:7]:\n",
    "        if i == 'F':\n",
    "            max_row = (max_row + min_row) // 2\n",
    "            row = min_row\n",
    "        if i == 'B':\n",
    "            min_row = (max_row + min_row) // 2 + 1\n",
    "            row = max_row\n",
    "    return row\n",
    "\n",
    "def get_col(seat):\n",
    "    \"\"\"\n",
    "    Helper to get the column of a seat.\n",
    "    \"\"\"\n",
    "    min_col = 0\n",
    "    max_col = 7\n",
    "    col = 999\n",
    "    for i in seat[7:]:\n",
    "        if i == 'R':\n",
    "            min_col = (max_col+min_col) // 2 + 1\n",
    "            col = max_col \n",
    "        if i == 'L':\n",
    "            max_col = (max_col + min_col) // 2\n",
    "            col = min_col\n",
    "    return col\n",
    "\n"
   ]
  },
  {
   "cell_type": "code",
   "execution_count": 50,
   "metadata": {},
   "outputs": [
    {
     "output_type": "execute_result",
     "data": {
      "text/plain": [
       "906"
      ]
     },
     "metadata": {},
     "execution_count": 50
    }
   ],
   "source": [
    "# Get ids of the seats\n",
    "seat_ids = [(get_row(seat) * 8 + get_col(seat)) for seat in seats]\n",
    "max(seat_ids)"
   ]
  },
  {
   "cell_type": "code",
   "execution_count": 55,
   "metadata": {},
   "outputs": [
    {
     "output_type": "stream",
     "name": "stdout",
     "text": [
      "55 906\n"
     ]
    },
    {
     "output_type": "execute_result",
     "data": {
      "text/plain": [
       "{519}"
      ]
     },
     "metadata": {},
     "execution_count": 55
    }
   ],
   "source": [
    "# Since all seats are next to each other, all seats in the plane should be in a sequence, so find element that is missing from the sequence.\n",
    "print(min(seat_ids),max(seat_ids))\n",
    "set(range(55,907)) - set(seat_ids)"
   ]
  }
 ]
}