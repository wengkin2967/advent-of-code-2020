{
 "metadata": {
  "language_info": {
   "codemirror_mode": {
    "name": "ipython",
    "version": 3
   },
   "file_extension": ".py",
   "mimetype": "text/x-python",
   "name": "python",
   "nbconvert_exporter": "python",
   "pygments_lexer": "ipython3",
   "version": "3.8.5-final"
  },
  "orig_nbformat": 2,
  "kernelspec": {
   "name": "python3",
   "display_name": "Python 3",
   "language": "python"
  }
 },
 "nbformat": 4,
 "nbformat_minor": 2,
 "cells": [
  {
   "cell_type": "code",
   "execution_count": 1,
   "metadata": {},
   "outputs": [],
   "source": [
    "import re"
   ]
  },
  {
   "source": [
    "## Part 1\n",
    "Given a list of inputs with format -->\n",
    "1-3 a: <password>\n",
    "\n",
    "* Count the number of passwords that obey it's line policy. \n",
    "* In the example above, password is only valid if it contains the letter 'a' between 1 to 3 times."
   ],
   "cell_type": "markdown",
   "metadata": {}
  },
  {
   "cell_type": "code",
   "execution_count": 19,
   "metadata": {
    "tags": []
   },
   "outputs": [],
   "source": [
    "with open('input.txt','r') as fp:\n",
    "    count = 0\n",
    "    for line in fp.readlines():\n",
    "        policy = list(map(int,re.search(r'\\d+-\\d+',line)[0].split('-')))\n",
    "        letter = re.search(r'(\\w):',line).group(1)\n",
    "        password = re.search(r': (\\w+)',line).group(1)\n",
    "        count += 1 if password.count(letter) in range(policy[0],policy[1] + 1) else 0"
   ]
  },
  {
   "source": [
    "count"
   ],
   "cell_type": "code",
   "metadata": {},
   "execution_count": 20,
   "outputs": [
    {
     "output_type": "execute_result",
     "data": {
      "text/plain": [
       "515"
      ]
     },
     "metadata": {},
     "execution_count": 20
    }
   ]
  },
  {
   "source": [
    "## Part 2\n",
    "\n",
    "With the same input as Part 1,\n",
    "* Now the policy is the letter 'a' must appear at position 1 and not at position 3"
   ],
   "cell_type": "markdown",
   "metadata": {}
  },
  {
   "cell_type": "code",
   "execution_count": 40,
   "metadata": {
    "tags": []
   },
   "outputs": [],
   "source": [
    "with open('input.txt','r') as fp:\n",
    "    count = 0\n",
    "    for line in fp.readlines():\n",
    "        policy = list(map(int,re.search(r'\\d+-\\d+',line)[0].split('-')))\n",
    "        letter = re.search(r'(\\w):',line).group(1)\n",
    "        password = re.search(r': (\\w+)',line).group(1)\n",
    "        count += 1 if ((password[policy[0] - 1] == letter) + (password[policy[1] -1] == letter)) == 1 else 0"
   ]
  },
  {
   "cell_type": "code",
   "execution_count": 41,
   "metadata": {},
   "outputs": [
    {
     "output_type": "execute_result",
     "data": {
      "text/plain": [
       "711"
      ]
     },
     "metadata": {},
     "execution_count": 41
    }
   ],
   "source": [
    "count"
   ]
  },
  {
   "cell_type": "code",
   "execution_count": null,
   "metadata": {},
   "outputs": [],
   "source": []
  }
 ]
}